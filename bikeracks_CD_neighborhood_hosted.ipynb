{
 "cells": [
  {
   "cell_type": "code",
   "execution_count": 29,
   "metadata": {},
   "outputs": [
    {
     "data": {
      "application/vnd.jupyter.widget-view+json": {
       "model_id": "da4784ea74d749909ee55337be080ae4",
       "version_major": 2,
       "version_minor": 0
      },
      "text/plain": [
       "interactive(children=(Dropdown(description='Select Neighborhood:', options=('Allerton', 'Alley Pond Park', \"An…"
      ]
     },
     "metadata": {},
     "output_type": "display_data"
    },
    {
     "data": {
      "text/plain": [
       "<function __main__.create_map(neighborhood)>"
      ]
     },
     "execution_count": 29,
     "metadata": {},
     "output_type": "execute_result"
    }
   ],
   "source": [
    "import folium\n",
    "import pandas as pd\n",
    "from IPython.display import display\n",
    "import ipywidgets as widgets\n",
    "import geopandas as gpd\n",
    "\n",
    "# Read the CSV file\n",
    "path = r'bikeracks.csv'\n",
    "csv_data = pd.read_csv(path)\n",
    "\n",
    "# Create a GeoDataFrame\n",
    "shp_data = gpd.GeoDataFrame(\n",
    "    csv_data, geometry=gpd.points_from_xy(csv_data.x, csv_data.y))\n",
    "\n",
    "# Get the unique neighborhoods\n",
    "neighborhood_options = sorted(shp_data['ntaname'].unique())\n",
    "\n",
    "# Mapbox URL and attribution\n",
    "mapbox_url = 'https://api.mapbox.com/styles/v1/dyepdot/clkvawo10006e01me6eog9y24/tiles/{z}/{x}/{y}?access_token=pk.eyJ1IjoiZHllcGRvdCIsImEiOiJjbGt2YW1xZGMwcTd2M2ZyMGN2ejg5NWlsIn0.Yqf0r-snHZPESj7vQu5C6A'\n",
    "mapbox_attr = 'Map data &copy; <a href=\"https://www.openstreetmap.org/copyright\">OpenStreetMap</a> contributors, <a href=\"https://creativecommons.org/licenses/by-sa/2.0/\">CC-BY-SA</a>, Imagery © <a href=\"https://www.mapbox.com/\">Mapbox</a>'\n",
    "\n",
    "# Function to create and display the map for a specific neighborhood\n",
    "def create_map(neighborhood):\n",
    "    # Filter the data for the selected neighborhood\n",
    "    neighborhood_data = shp_data[shp_data['ntaname'] == neighborhood]\n",
    "    \n",
    "    # Create the map object\n",
    "    m = folium.Map(tiles=mapbox_url, attr=mapbox_attr, zoom_start=10)\n",
    "\n",
    "    # Add points to the neighborhood without clustering\n",
    "    for idx, row in neighborhood_data.iterrows():\n",
    "        location = [row.geometry.y, row.geometry.x]\n",
    "        popup_text = f\"Address: {row['ifoaddress']}\\nRack Type: {row['rack_type']}\\nDate Installed: {row['date_date_']}\"\n",
    "        popup = folium.Popup(popup_text, parse_html=True)\n",
    "        folium.Marker(location=location, popup=popup).add_to(m)\n",
    "\n",
    "    # Get the bounds of the neighborhood geometries and fit the map to those bounds\n",
    "    bounds = neighborhood_data.geometry.total_bounds\n",
    "    m.fit_bounds([[bounds[1], bounds[0]], [bounds[3], bounds[2]]])\n",
    "\n",
    "    # Show the map\n",
    "    display(m)\n",
    "\n",
    "# Create a style object with a specific description width\n",
    "style = {'description_width': '150px'}  # You can adjust the width as needed\n",
    "\n",
    "# Create a dropdown menu for neighborhoods with the custom style\n",
    "dropdown = widgets.Dropdown(\n",
    "    options=neighborhood_options,\n",
    "    description='Select Neighborhood:',\n",
    "    disabled=False,\n",
    "    style=style\n",
    ")\n",
    "\n",
    "# Interact with the dropdown to render the map\n",
    "widgets.interact(create_map, neighborhood=dropdown)\n"
   ]
  },
  {
   "cell_type": "code",
   "execution_count": 30,
   "metadata": {},
   "outputs": [
    {
     "data": {
      "application/vnd.jupyter.widget-view+json": {
       "model_id": "7ba2097e3d164dbfa4adda31e6eb7011",
       "version_major": 2,
       "version_minor": 0
      },
      "text/plain": [
       "interactive(children=(Dropdown(description='Select Neighborhood:', options=('Allerton', 'Alley Pond Park', \"An…"
      ]
     },
     "metadata": {},
     "output_type": "display_data"
    },
    {
     "data": {
      "text/plain": [
       "<function __main__.create_map(neighborhood)>"
      ]
     },
     "execution_count": 30,
     "metadata": {},
     "output_type": "execute_result"
    }
   ],
   "source": [
    "import folium\n",
    "from folium.plugins import MarkerCluster\n",
    "import pandas as pd\n",
    "from IPython.display import display\n",
    "import ipywidgets as widgets\n",
    "import geopandas as gpd\n",
    "\n",
    "# Read the CSV file\n",
    "path = r'bikeracks.csv'\n",
    "csv_data = pd.read_csv(path)\n",
    "\n",
    "# Create a GeoDataFrame\n",
    "shp_data = gpd.GeoDataFrame(\n",
    "    csv_data, geometry=gpd.points_from_xy(csv_data.x, csv_data.y))\n",
    "\n",
    "# Get the unique neighborhoods\n",
    "neighborhood_options = sorted(shp_data['ntaname'].unique())\n",
    "\n",
    "# Mapbox URL and attribution\n",
    "mapbox_url = 'https://api.mapbox.com/styles/v1/dyepdot/clkvawo10006e01me6eog9y24/tiles/{z}/{x}/{y}?access_token=pk.eyJ1IjoiZHllcGRvdCIsImEiOiJjbGt2YW1xZGMwcTd2M2ZyMGN2ejg5NWlsIn0.Yqf0r-snHZPESj7vQu5C6A'\n",
    "mapbox_attr = 'Map data &copy; <a href=\"https://www.openstreetmap.org/copyright\">OpenStreetMap</a> contributors, <a href=\"https://creativecommons.org/licenses/by-sa/2.0/\">CC-BY-SA</a>, Imagery © <a href=\"https://www.mapbox.com/\">Mapbox</a>'\n",
    "\n",
    "# Function to create and display the map for a specific neighborhood\n",
    "def create_map(neighborhood):\n",
    "    # Filter the data for the selected neighborhood\n",
    "    neighborhood_data = shp_data[shp_data['ntaname'] == neighborhood]\n",
    "    \n",
    "    # Create the map object\n",
    "    m = folium.Map(tiles=mapbox_url, attr=mapbox_attr, zoom_start=10)\n",
    "\n",
    "    # Create a MarkerCluster object\n",
    "    marker_cluster = MarkerCluster().add_to(m)\n",
    "\n",
    "    # Add points to the neighborhood within clusters\n",
    "    for idx, row in neighborhood_data.iterrows():\n",
    "        location = [row.geometry.y, row.geometry.x]\n",
    "        popup_text = f\"Address: {row['ifoaddress']}\\nRack Type: {row['rack_type']}\\nDate Installed: {row['date_date_']}\"\n",
    "        popup = folium.Popup(popup_text, parse_html=True)\n",
    "        folium.Marker(location=location, popup=popup).add_to(marker_cluster)\n",
    "\n",
    "    # Get the bounds of the neighborhood geometries and fit the map to those bounds\n",
    "    bounds = neighborhood_data.geometry.total_bounds\n",
    "    m.fit_bounds([[bounds[1], bounds[0]], [bounds[3], bounds[2]]])\n",
    "\n",
    "    # Show the map\n",
    "    display(m)\n",
    "\n",
    "# Create a style object with a specific description width\n",
    "style = {'description_width': '150px'}  # You can adjust the width as needed\n",
    "\n",
    "# Create a dropdown menu for neighborhoods with the custom style\n",
    "dropdown = widgets.Dropdown(\n",
    "    options=neighborhood_options,\n",
    "    description='Select Neighborhood:',\n",
    "    disabled=False,\n",
    "    style=style\n",
    ")\n",
    "\n",
    "# Interact with the dropdown to render the map\n",
    "widgets.interact(create_map, neighborhood=dropdown)\n"
   ]
  },
  {
   "cell_type": "code",
   "execution_count": null,
   "metadata": {},
   "outputs": [],
   "source": []
  }
 ],
 "metadata": {
  "kernelspec": {
   "display_name": "base",
   "language": "python",
   "name": "python3"
  },
  "language_info": {
   "codemirror_mode": {
    "name": "ipython",
    "version": 3
   },
   "file_extension": ".py",
   "mimetype": "text/x-python",
   "name": "python",
   "nbconvert_exporter": "python",
   "pygments_lexer": "ipython3",
   "version": "3.10.9"
  },
  "orig_nbformat": 4
 },
 "nbformat": 4,
 "nbformat_minor": 2
}
